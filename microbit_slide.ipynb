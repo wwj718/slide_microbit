{
 "cells": [
  {
   "cell_type": "markdown",
   "metadata": {
    "slideshow": {
     "slide_type": "slide"
    }
   },
   "source": [
    "# 连接micro:bit\n",
    "*  打开电脑的蓝牙\n",
    "*  点击右边的连接按钮\n",
    "\n",
    "\n",
    "<button id=\"ble_button\" style=\"color:blue\">连接</button>"
   ]
  },
  {
   "cell_type": "markdown",
   "metadata": {
    "slideshow": {
     "slide_type": "slide"
    }
   },
   "source": [
    "# 项目: micro:bit翻页笔"
   ]
  },
  {
   "cell_type": "markdown",
   "metadata": {
    "slideshow": {
     "slide_type": "slide"
    }
   },
   "source": [
    "![](./iot.png)"
   ]
  },
  {
   "cell_type": "markdown",
   "metadata": {
    "slideshow": {
     "slide_type": "slide"
    }
   },
   "source": [
    "# 介绍\n",
    "利用物联网中常用的低功耗蓝牙(ble)实现了远程浏览器控制，在教学中，老师只需要手握micro:bit开发版，通过按下A、B按钮，即可实现web PPT的上下翻页，控制范围达到了100米。可在任何教学空间中使用\n"
   ]
  },
  {
   "cell_type": "markdown",
   "metadata": {
    "slideshow": {
     "slide_type": "slide"
    }
   },
   "source": [
    "# 原理\n",
    "*  利用chrome引入的web bluetooth，我们可以实现低功耗蓝牙对浏览器的控制。\n",
    "*  micro:bit中内置低功耗蓝牙\n",
    "*  使用reveal.js在浏览器中制作PPT\n",
    "*  将以上技术综合，我们就实现了micro:bit翻页笔\n"
   ]
  },
  {
   "cell_type": "markdown",
   "metadata": {
    "slideshow": {
     "slide_type": "slide"
    }
   },
   "source": [
    "![](./microbit.png)\n",
    "\n",
    "\n",
    "micro:bit是一款由BBC（英国广播电视公司）推出的为青少年编程教育设计的微型电脑开发板,旨在使学习与教学变得轻松有趣"
   ]
  },
  {
   "cell_type": "markdown",
   "metadata": {
    "slideshow": {
     "slide_type": "slide"
    }
   },
   "source": [
    "# 想象空间\n",
    "利用这种蓝牙控制浏览器的机制，也可以控制任何能在浏览器中观看的元素，诸如利用micro:bit中的陀螺仪实现3D模型浏览。也可以用它来做体感遥控器"
   ]
  },
  {
   "cell_type": "markdown",
   "metadata": {
    "slideshow": {
     "slide_type": "slide"
    }
   },
   "source": [
    "# 参考文档\n",
    "*  chrome浏览器蓝牙部分的文档\n",
    "*  micro:bit的官方文档"
   ]
  },
  {
   "cell_type": "markdown",
   "metadata": {
    "slideshow": {
     "slide_type": "slide"
    }
   },
   "source": [
    "# 实现工具\n",
    "*  chrome\n",
    "*  makecode"
   ]
  }
 ],
 "metadata": {
  "celltoolbar": "Slideshow",
  "kernelspec": {
   "display_name": "Python 3",
   "language": "python",
   "name": "python3"
  },
  "language_info": {
   "codemirror_mode": {
    "name": "ipython",
    "version": 3
   },
   "file_extension": ".py",
   "mimetype": "text/x-python",
   "name": "python",
   "nbconvert_exporter": "python",
   "pygments_lexer": "ipython3",
   "version": "3.6.2"
  }
 },
 "nbformat": 4,
 "nbformat_minor": 2
}
